{
 "cells": [
  {
   "cell_type": "code",
   "execution_count": 6,
   "id": "77e43c9e",
   "metadata": {},
   "outputs": [],
   "source": [
    "from __future__ import print_function, division\n",
    "from future.utils import iteritems\n",
    "from builtins import range, input"
   ]
  },
  {
   "cell_type": "code",
   "execution_count": 9,
   "id": "779facbb",
   "metadata": {},
   "outputs": [
    {
     "ename": "ModuleNotFoundError",
     "evalue": "No module named 'rnn_class'",
     "output_type": "error",
     "traceback": [
      "\u001b[1;31m---------------------------------------------------------------------------\u001b[0m",
      "\u001b[1;31mModuleNotFoundError\u001b[0m                       Traceback (most recent call last)",
      "Input \u001b[1;32mIn [9]\u001b[0m, in \u001b[0;36m<cell line: 13>\u001b[1;34m()\u001b[0m\n\u001b[0;32m     11\u001b[0m \u001b[38;5;28;01mfrom\u001b[39;00m \u001b[38;5;21;01mmachine_learning_examples\u001b[39;00m\u001b[38;5;21;01m.\u001b[39;00m\u001b[38;5;21;01mrnn_class\u001b[39;00m\u001b[38;5;21;01m.\u001b[39;00m\u001b[38;5;21;01mbrown\u001b[39;00m \u001b[38;5;28;01mimport\u001b[39;00m get_sentences_with_word2idx_limit_vocab, get_sentences_with_word2idx\n\u001b[0;32m     12\u001b[0m sys\u001b[38;5;241m.\u001b[39mpath\u001b[38;5;241m.\u001b[39mappend(os\u001b[38;5;241m.\u001b[39mpath\u001b[38;5;241m.\u001b[39mabspath(\u001b[38;5;124m'\u001b[39m\u001b[38;5;124m..\u001b[39m\u001b[38;5;124m'\u001b[39m))\n\u001b[1;32m---> 13\u001b[0m \u001b[38;5;28;01mfrom\u001b[39;00m \u001b[38;5;21;01mmachine_learning_examples\u001b[39;00m\u001b[38;5;21;01m.\u001b[39;00m\u001b[38;5;21;01mnlp_class2\u001b[39;00m\u001b[38;5;21;01m.\u001b[39;00m\u001b[38;5;21;01mmarkov\u001b[39;00m \u001b[38;5;28;01mimport\u001b[39;00m get_bigram_probs\n",
      "File \u001b[1;32m~\\Desktop\\udemy_nlp\\machine_learning_examples\\nlp_class2\\markov.py:15\u001b[0m, in \u001b[0;36m<module>\u001b[1;34m\u001b[0m\n\u001b[0;32m     13\u001b[0m \u001b[38;5;28;01mimport\u001b[39;00m \u001b[38;5;21;01msys\u001b[39;00m\n\u001b[0;32m     14\u001b[0m sys\u001b[38;5;241m.\u001b[39mpath\u001b[38;5;241m.\u001b[39mappend(os\u001b[38;5;241m.\u001b[39mpath\u001b[38;5;241m.\u001b[39mabspath(\u001b[38;5;124m'\u001b[39m\u001b[38;5;124m..\u001b[39m\u001b[38;5;124m'\u001b[39m))\n\u001b[1;32m---> 15\u001b[0m \u001b[38;5;28;01mfrom\u001b[39;00m \u001b[38;5;21;01mrnn_class\u001b[39;00m\u001b[38;5;21;01m.\u001b[39;00m\u001b[38;5;21;01mbrown\u001b[39;00m \u001b[38;5;28;01mimport\u001b[39;00m get_sentences_with_word2idx_limit_vocab, get_sentences_with_word2idx\n\u001b[0;32m     19\u001b[0m \u001b[38;5;28;01mdef\u001b[39;00m \u001b[38;5;21mget_bigram_probs\u001b[39m(sentences, V, start_idx, end_idx, smoothing\u001b[38;5;241m=\u001b[39m\u001b[38;5;241m1\u001b[39m):\n\u001b[0;32m     20\u001b[0m   \u001b[38;5;66;03m# structure of bigram probability matrix will be:\u001b[39;00m\n\u001b[0;32m     21\u001b[0m   \u001b[38;5;66;03m# (last word, current word) --> probability\u001b[39;00m\n\u001b[0;32m     22\u001b[0m   \u001b[38;5;66;03m# we will use add-1 smoothing\u001b[39;00m\n\u001b[0;32m     23\u001b[0m   \u001b[38;5;66;03m# note: we'll always ignore this from the END token\u001b[39;00m\n\u001b[0;32m     24\u001b[0m   bigram_probs \u001b[38;5;241m=\u001b[39m np\u001b[38;5;241m.\u001b[39mones((V, V)) \u001b[38;5;241m*\u001b[39m smoothing\n",
      "\u001b[1;31mModuleNotFoundError\u001b[0m: No module named 'rnn_class'"
     ]
    }
   ],
   "source": [
    "import numpy as np\n",
    "import matplotlib.pyplot as plt\n",
    "import random\n",
    "from datetime import datetime\n",
    "\n",
    "import os\n",
    "import sys\n",
    "sys.path.append(os.path.abspath('..'))\n",
    "from machine_learning_examples.rnn_class.util import get_wikipedia_data\n",
    "from machine_learning_examples.rnn_class.brown import get_sentences_with_word2idx_limit_vocab, get_sentences_with_word2idx\n",
    "from machine_learning_examples.nlp_class2.markov import get_bigram_probs"
   ]
  },
  {
   "cell_type": "code",
   "execution_count": null,
   "id": "1cbf8873",
   "metadata": {},
   "outputs": [],
   "source": []
  }
 ],
 "metadata": {
  "kernelspec": {
   "display_name": "Python 3 (ipykernel)",
   "language": "python",
   "name": "python3"
  },
  "language_info": {
   "codemirror_mode": {
    "name": "ipython",
    "version": 3
   },
   "file_extension": ".py",
   "mimetype": "text/x-python",
   "name": "python",
   "nbconvert_exporter": "python",
   "pygments_lexer": "ipython3",
   "version": "3.9.12"
  }
 },
 "nbformat": 4,
 "nbformat_minor": 5
}
